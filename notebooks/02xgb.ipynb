{
  "nbformat": 4,
  "nbformat_minor": 0,
  "metadata": {
    "colab": {
      "provenance": [],
      "authorship_tag": "ABX9TyN0+nJ7F0zQoQdiv6mV1J5+",
      "include_colab_link": true
    },
    "kernelspec": {
      "name": "python3",
      "display_name": "Python 3"
    },
    "language_info": {
      "name": "python"
    }
  },
  "cells": [
    {
      "cell_type": "markdown",
      "metadata": {
        "id": "view-in-github",
        "colab_type": "text"
      },
      "source": [
        "<a href=\"https://colab.research.google.com/github/delvTom/Data-challenge-MS2A-2025/blob/main/notebooks/02xgb.ipynb\" target=\"_parent\"><img src=\"https://colab.research.google.com/assets/colab-badge.svg\" alt=\"Open In Colab\"/></a>"
      ]
    },
    {
      "cell_type": "code",
      "execution_count": null,
      "metadata": {
        "colab": {
          "base_uri": "https://localhost:8080/"
        },
        "id": "fRK-cOEqVXwF",
        "outputId": "0ad66ef7-904d-44fc-9059-776b5b2e810c"
      },
      "outputs": [
        {
          "output_type": "stream",
          "name": "stdout",
          "text": [
            "Drive already mounted at /content/drive; to attempt to forcibly remount, call drive.mount(\"/content/drive\", force_remount=True).\n",
            "DATA: /content/drive/MyDrive/datachallenge_data/data\n",
            "OUT : /content/drive/MyDrive/datachallenge_data/outputs/submissions\n",
            "Fichiers -> ['X_test.csv', 'X_train.csv', 'y_train.csv', 'sample_submission.csv']\n"
          ]
        }
      ],
      "source": [
        "from google.colab import drive\n",
        "drive.mount('/content/drive')\n",
        "\n",
        "BASE =  \"/content/drive/MyDrive/datachallenge_data\"\n",
        "DATA = f\"{BASE}/data\"\n",
        "OUT = f\"{BASE}/outputs/submissions\"\n",
        "\n",
        "import os\n",
        "import pandas as pd\n",
        "\n",
        "os.makedirs(OUT, exist_ok=True)\n",
        "\n",
        "print(\"DATA:\", DATA)\n",
        "print(\"OUT :\", OUT)\n",
        "print(\"Fichiers ->\", os.listdir(DATA))"
      ]
    },
    {
      "cell_type": "code",
      "source": [
        "\n",
        "import time, threading, requests, os, IPython\n",
        "from google.colab import output, drive\n",
        "\n",
        "\n",
        "try:\n",
        "    drive.mount('/content/drive')\n",
        "except Exception:\n",
        "    pass\n",
        "\n",
        "js = \"\"\"\n",
        "function ConnectButton(){\n",
        "  console.log(\"Keep alive: reconnecting...\");\n",
        "  document.querySelector(\"colab-connect-button\").click();\n",
        "}\n",
        "setInterval(ConnectButton, 60 * 1000);\n",
        "\"\"\"\n",
        "IPython.display.display(IPython.display.Javascript(js))\n",
        "print(\"Keep-alive activé ✅\")\n"
      ],
      "metadata": {
        "colab": {
          "base_uri": "https://localhost:8080/",
          "height": 52
        },
        "id": "JQu8SpQYqWh9",
        "outputId": "c0d9ded7-6454-4976-95f5-bb09138a4462"
      },
      "execution_count": null,
      "outputs": [
        {
          "output_type": "stream",
          "name": "stdout",
          "text": [
            "Drive already mounted at /content/drive; to attempt to forcibly remount, call drive.mount(\"/content/drive\", force_remount=True).\n"
          ]
        },
        {
          "output_type": "display_data",
          "data": {
            "text/plain": [
              "<IPython.core.display.Javascript object>"
            ],
            "application/javascript": [
              "\n",
              "function ConnectButton(){\n",
              "  console.log(\"Keep alive: reconnecting...\");\n",
              "  document.querySelector(\"colab-connect-button\").click();\n",
              "}\n",
              "setInterval(ConnectButton, 60 * 1000);\n"
            ]
          },
          "metadata": {}
        },
        {
          "output_type": "stream",
          "name": "stdout",
          "text": [
            "Keep-alive activé ✅\n"
          ]
        }
      ]
    },
    {
      "cell_type": "code",
      "source": [
        "X_train = pd.read_csv(f\"{DATA}/X_train.csv\")\n",
        "y_train = pd.read_csv(f'{DATA}/y_train.csv')\n",
        "X_test = pd.read_csv(f\"{DATA}/X_test.csv\")\n",
        "\n",
        "print(\"X_train :\", X_train.shape)\n",
        "print(\"y_train :\", y_train.shape)\n",
        "print(\"X_test :\", X_test.shape)"
      ],
      "metadata": {
        "colab": {
          "base_uri": "https://localhost:8080/"
        },
        "id": "aQpFdmfNXSYD",
        "outputId": "32ef7ef8-8c17-427a-907e-ee7006dcf3bf"
      },
      "execution_count": null,
      "outputs": [
        {
          "output_type": "stream",
          "name": "stdout",
          "text": [
            "X_train : (202933, 14)\n",
            "y_train : (202933, 24)\n",
            "X_test : (134673, 14)\n"
          ]
        }
      ]
    },
    {
      "cell_type": "code",
      "source": [
        "\n",
        "X = X_train.drop(columns=[\"ID\"])\n",
        "X_test_final = X_test.drop(columns=[\"ID\"])\n",
        "\n",
        "\n",
        "Y = y_train.drop(columns=[\"ID\"])\n",
        "\n",
        "print(\"X :\", X.shape)\n",
        "print(\"Y :\", Y.shape)\n",
        "print(\"X_test_final :\", X_test_final.shape)\n",
        "\n"
      ],
      "metadata": {
        "id": "yruis5SkYd1Y",
        "colab": {
          "base_uri": "https://localhost:8080/"
        },
        "outputId": "68d150bf-05fc-4802-cee3-6bfe28f6be82"
      },
      "execution_count": null,
      "outputs": [
        {
          "output_type": "stream",
          "name": "stdout",
          "text": [
            "X : (202933, 13)\n",
            "Y : (202933, 23)\n",
            "X_test_final : (134673, 13)\n"
          ]
        }
      ]
    },
    {
      "cell_type": "code",
      "source": [
        "print(X_test_final.head())\n",
        "print(X_test_final.shape)"
      ],
      "metadata": {
        "colab": {
          "base_uri": "https://localhost:8080/"
        },
        "id": "u0tzx2H06oVj",
        "outputId": "729f2419-00af-4611-ea17-03d8bd32d996"
      },
      "execution_count": null,
      "outputs": [
        {
          "output_type": "stream",
          "name": "stdout",
          "text": [
            "   Humidity       M12       M13       M14       M15        M4        M5  \\\n",
            "0  0.869916  0.021914 -0.015737  0.009041  0.015662 -0.139344 -0.041396   \n",
            "1  0.904594 -0.100771 -0.040901  0.006137  0.013496  0.843534  0.501194   \n",
            "2  0.688853  0.703585  1.029723  0.785505  0.293766 -0.536002 -0.166262   \n",
            "3  0.392112  0.648665  0.628007  0.416822  0.065360 -0.309533 -0.398324   \n",
            "4  0.618233  0.155158  0.285085  0.081453  0.031029 -0.801587 -0.709802   \n",
            "\n",
            "         M6        M7         R        S1        S2        S3  \n",
            "0 -0.006051  0.001638  1.008217  1.000922  1.003093  0.998643  \n",
            "1  0.134963  0.024947  1.010621  0.987593  1.003104  1.009033  \n",
            "2 -0.029509 -0.015855  1.075560  1.015945  1.038617  1.067383  \n",
            "3 -0.269763 -0.269454  1.160165  1.084636  1.011883  1.008619  \n",
            "4 -0.279257 -0.089210  1.051850  1.120134  1.003001  1.007571  \n",
            "(134673, 13)\n"
          ]
        }
      ]
    },
    {
      "cell_type": "code",
      "source": [
        "import numpy as np\n",
        "import pandas as pd\n",
        "from sklearn.model_selection import KFold, RandomizedSearchCV\n",
        "from sklearn.multioutput import MultiOutputRegressor\n",
        "from sklearn.metrics import make_scorer\n",
        "from xgboost import XGBRegressor\n",
        "\n",
        "\n",
        "\n",
        "def weighted_rmse(y_true: np.ndarray, y_pred: np.ndarray) -> float:\n",
        "    y_pred = np.clip(y_pred, 0.0, 1.0)\n",
        "    w = np.where(y_true >= 0.5, 1.2, 1.0)\n",
        "    mse_per_sample = np.mean(w * (y_pred - y_true)**2, axis=1)\n",
        "    return float(np.sqrt(np.mean(mse_per_sample)))\n",
        "\n",
        "\n",
        "weighted_rmse_scorer = make_scorer(lambda yt, yp: -weighted_rmse(yt, yp), greater_is_better=False)\n"
      ],
      "metadata": {
        "id": "ngtSZRJ33ErH"
      },
      "execution_count": null,
      "outputs": []
    },
    {
      "cell_type": "code",
      "source": [
        "\n",
        "def clean_features(X_train, X_test, lower_q=0.01, upper_q=0.99, drop_humidity=True):\n",
        "\n",
        "\n",
        "    X_train_clean = X_train.copy()\n",
        "    X_test_clean = X_test.copy()\n",
        "\n",
        "    # === Clipping par quantiles\n",
        "    for col in X_train_clean.columns:\n",
        "        if col not in [\"ID\"]:\n",
        "            low = X_train_clean[col].quantile(lower_q)\n",
        "            high = X_train_clean[col].quantile(upper_q)\n",
        "            X_train_clean[col] = X_train_clean[col].clip(low, high)\n",
        "            X_test_clean[col] = X_test_clean[col].clip(low, high)\n",
        "\n",
        "    # === Suppression de la colonne Humidity\n",
        "    if drop_humidity and \"Humidity\" in X_train_clean.columns:\n",
        "        X_train_clean = X_train_clean.drop(columns=[\"Humidity\"])\n",
        "        X_test_clean = X_test_clean.drop(columns=[\"Humidity\"])\n",
        "\n",
        "    return X_train_clean, X_test_clean\n"
      ],
      "metadata": {
        "id": "hzsWlkbS_jrh"
      },
      "execution_count": null,
      "outputs": []
    },
    {
      "cell_type": "code",
      "source": [
        "X_train_clean, X_test_clean = clean_features(X_train, X_test)\n",
        "\n",
        "print(\"Avant :\", X_train.shape, X_test.shape)\n",
        "print(\"Après :\", X_train_clean.shape, X_test_clean.shape)\n"
      ],
      "metadata": {
        "id": "m7_2t1z5-006",
        "colab": {
          "base_uri": "https://localhost:8080/"
        },
        "outputId": "04a23e86-7d84-47a8-fccb-be777e04fc9b"
      },
      "execution_count": null,
      "outputs": [
        {
          "output_type": "stream",
          "name": "stdout",
          "text": [
            "Avant : (202933, 14) (134673, 14)\n",
            "Après : (202933, 13) (134673, 13)\n"
          ]
        }
      ]
    },
    {
      "cell_type": "code",
      "source": [
        "\n",
        "import numpy as np\n",
        "import pandas as pd\n",
        "from sklearn.model_selection import KFold, RandomizedSearchCV\n",
        "from sklearn.multioutput import MultiOutputRegressor\n",
        "from sklearn.metrics import make_scorer\n",
        "from xgboost import XGBRegressor\n",
        "def train_and_evaluate_xgb(\n",
        "    X_train,\n",
        "    y_train,\n",
        "    X_test=None,\n",
        "    cv_splits: int = 5,\n",
        "    n_iter_search: int = 20,\n",
        "    random_state: int = 42\n",
        "):\n",
        "    \"\"\"\n",
        "    Optimise XGBoost avec RandomizedSearchCV sur Weighted RMSE (métrique challenge),\n",
        "    puis réentraîne en K-Fold avec les meilleurs hyperparams et produit les prédictions test.\n",
        "\n",
        "    Args:\n",
        "        X_train: pd.DataFrame - features train\n",
        "        y_train: pd.DataFrame - labels train\n",
        "        X_test: pd.DataFrame - features test (facultatif, sinon None)\n",
        "        cv_splits: int - nombre de folds pour CV\n",
        "        n_iter_search: int - nombre d’itérations de random search\n",
        "        random_state: int - graine\n",
        "\n",
        "    Returns:\n",
        "        best_model: modèle MultiOutputRegressor(XGBRegressor) entraîné\n",
        "        best_score: meilleure Weighted RMSE trouvée\n",
        "        best_params: hyperparamètres optimaux\n",
        "        y_pred_test: prédictions sur X_test si fourni (sinon None)\n",
        "    \"\"\"\n",
        "\n",
        "    # ===== 1. Base Model XGB\n",
        "    base = XGBRegressor(\n",
        "        tree_method=\"hist\",\n",
        "        eval_metric=\"rmse\",\n",
        "        random_state=random_state,\n",
        "        n_jobs=-1\n",
        "    )\n",
        "    model = MultiOutputRegressor(base, n_jobs=-1)\n",
        "\n",
        "    # ===== 2. Grille de recherche\n",
        "    param_dist = {\n",
        "        \"estimator__n_estimators\": [300, 500, 800],\n",
        "        \"estimator__max_depth\": [4, 6, 8, 10],\n",
        "        \"estimator__learning_rate\": [0.01, 0.03, 0.05, 0.1],\n",
        "        \"estimator__subsample\": [0.6, 0.8, 1.0],\n",
        "        \"estimator__colsample_bytree\": [0.6, 0.8, 1.0],\n",
        "        \"estimator__min_child_weight\": [1, 5, 10],\n",
        "        \"estimator__reg_lambda\": [0.0, 0.5, 1.0, 2.0],\n",
        "        \"estimator__reg_alpha\": [0.0, 0.1, 0.5]\n",
        "    }\n",
        "\n",
        "    # ===== 3. CV + Random Search\n",
        "    cv = KFold(n_splits=cv_splits, shuffle=True, random_state=random_state)\n",
        "\n",
        "    search = RandomizedSearchCV(\n",
        "        estimator=model,\n",
        "        param_distributions=param_dist,\n",
        "        n_iter=n_iter_search,\n",
        "        scoring=weighted_rmse_scorer,   # ⚡️ METRIQUE CHALLENGE\n",
        "        cv=cv,\n",
        "        verbose=2,\n",
        "        n_jobs=-1,\n",
        "        random_state=random_state\n",
        "    )\n",
        "\n",
        "    search.fit(X_train, y_train)\n",
        "\n",
        "    best_params = search.best_params_\n",
        "    best_score = -search.best_score_   # repasser en RMSE positif\n",
        "    print(f\"✅ Best CV Weighted RMSE (RandomSearch): {best_score:.6f}\")\n",
        "    print(\"✅ Best Params:\", best_params)\n",
        "\n",
        "    # ===== 4. Réentraîner un modèle final en K-Fold avec les meilleurs params\n",
        "    oof_preds = np.zeros_like(y_train, dtype=float)\n",
        "    test_preds = np.zeros((X_test.shape[0], y_train.shape[1])) if X_test is not None else None\n",
        "\n",
        "    for fold, (train_idx, val_idx) in enumerate(cv.split(X_train)):\n",
        "        print(f\"\\n🚀 Training fold {fold+1}/{cv_splits}...\")\n",
        "        X_tr, X_val = X_train.iloc[train_idx], X_train.iloc[val_idx]\n",
        "        y_tr, y_val = y_train.iloc[train_idx], y_train.iloc[val_idx]\n",
        "\n",
        "        # Nouveau modèle avec meilleurs params\n",
        "        base_final = XGBRegressor(\n",
        "            tree_method=\"hist\",\n",
        "            eval_metric=\"rmse\",\n",
        "            random_state=random_state,\n",
        "            n_jobs=-1,\n",
        "            **{k.replace(\"estimator__\", \"\"): v for k, v in best_params.items()}\n",
        "        )\n",
        "        model_final = MultiOutputRegressor(base_final, n_jobs=-1)\n",
        "\n",
        "        model_final.fit(X_tr, y_tr)\n",
        "        oof_preds[val_idx] = model_final.predict(X_val)\n",
        "\n",
        "        if X_test is not None:\n",
        "            test_preds += model_final.predict(X_test) / cv_splits\n",
        "\n",
        "    # Score final sur le train\n",
        "    final_score = weighted_rmse(y_train.values, oof_preds)\n",
        "    print(f\"\\n🎯 Final CV Weighted RMSE (retrain): {final_score:.6f}\")\n",
        "\n",
        "    # ===== 5. Entraînement global final\n",
        "    base_final = XGBRegressor(\n",
        "        tree_method=\"hist\",\n",
        "        eval_metric=\"rmse\",\n",
        "        random_state=random_state,\n",
        "        n_jobs=-1,\n",
        "        **{k.replace(\"estimator__\", \"\"): v for k, v in best_params.items()}\n",
        "    )\n",
        "    best_model = MultiOutputRegressor(base_final, n_jobs=-1)\n",
        "    best_model.fit(X_train, y_train)\n",
        "\n",
        "    return best_model, final_score, best_params, test_preds\n"
      ],
      "metadata": {
        "id": "m-uOCHh31ie3"
      },
      "execution_count": null,
      "outputs": []
    },
    {
      "cell_type": "code",
      "source": [
        "best_model, final_score, best_params, y_pred = train_and_evaluate_xgb(\n",
        "    X_train_clean,\n",
        "    y_train,\n",
        "    X_test_clean,\n",
        "    cv_splits=5,\n",
        "    n_iter_search=30\n"
      ],
      "metadata": {
        "id": "7Q_N0HwgJ35I"
      },
      "execution_count": null,
      "outputs": []
    },
    {
      "cell_type": "code",
      "source": [
        "import pandas as pd\n",
        "\n",
        "\n",
        "target_cols = [c for c in y_train.columns if c != \"ID\"]\n",
        "\n",
        "submission = pd.DataFrame(y_pred, columns=target_cols)\n",
        "submission.insert(0, \"ID\", X_test[\"ID\"])\n",
        "\n",
        "# Sauvegarde\n",
        "submission.to_csv(\"submission.csv\", index=False)\n",
        "\n",
        "print(\"✅ Fichier 'submission.csv' généré avec succès !\")\n"
      ],
      "metadata": {
        "id": "3eccR7_k2BFv"
      },
      "execution_count": null,
      "outputs": []
    },
    {
      "cell_type": "code",
      "source": [],
      "metadata": {
        "id": "sX2whjqoBRfp"
      },
      "execution_count": null,
      "outputs": []
    }
  ]
}